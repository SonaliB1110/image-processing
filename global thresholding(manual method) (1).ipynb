{
 "cells": [
  {
   "cell_type": "code",
   "execution_count": 3,
   "id": "d294612b",
   "metadata": {},
   "outputs": [
    {
     "data": {
      "text/plain": [
       "-1"
      ]
     },
     "execution_count": 3,
     "metadata": {},
     "output_type": "execute_result"
    }
   ],
   "source": [
    "#global thrsholding\n",
    "import cv2\n",
    "import numpy as np\n",
    "# Load an image in the greyscale\n",
    "img = cv2.imread('king.jpg',cv2.IMREAD_GRAYSCALE)\n",
    "\n",
    "def global_threshold(image, thres_value, val_high, val_low):\n",
    "    img = image.copy()\n",
    "    for i in range(image.shape[0]):\n",
    "        for j in range(image.shape[1]):\n",
    "            if image[i,j] > thres_value:\n",
    "                img[i,j] = val_high\n",
    "            else:\n",
    "                img[i,j] = val_low\n",
    "    return img\n",
    "def thres_finder(img, thres=20,delta_T=1.0):\n",
    " #Step-2: Divide the images in two parts\n",
    "    x_low, y_low = np.where(img<=thres)\n",
    "    x_high, y_high = np.where(img>thres)\n",
    "   \n",
    " #Step-3: Find the mean of two parts\n",
    "    mean_low = np.mean(img[x_low,y_low])\n",
    "    mean_high = np.mean(img[x_high,y_high])\n",
    "   \n",
    " #Step-4: Calculate the new threshold\n",
    "    new_thres = (mean_low + mean_high)/2\n",
    "   \n",
    " #Step-5: Stopping criteria, otherwise iterate\n",
    "    if abs(new_thres-thres)< delta_T:\n",
    "         return new_thres\n",
    "    else:\n",
    "        return thres_finder(img, thres=new_thres,delta_T=1.0)\n",
    "\n",
    "# apply threshold finder\n",
    "vv1 = thres_finder(img, thres=30,delta_T=1.0)\n",
    "\n",
    "# threshold the image   \n",
    "ret, thresh = cv2.threshold(img,vv1,255,cv2.THRESH_BINARY)\n",
    "out = cv2.hconcat([img,thresh])\n",
    "cv2.imshow('threshold',out)\n",
    "cv2.waitKey(0)\n"
   ]
  },
  {
   "cell_type": "code",
   "execution_count": null,
   "id": "6e3fb6ff",
   "metadata": {},
   "outputs": [],
   "source": []
  },
  {
   "cell_type": "code",
   "execution_count": null,
   "id": "12d0b4c0",
   "metadata": {},
   "outputs": [],
   "source": []
  }
 ],
 "metadata": {
  "kernelspec": {
   "display_name": "Python 3 (ipykernel)",
   "language": "python",
   "name": "python3"
  },
  "language_info": {
   "codemirror_mode": {
    "name": "ipython",
    "version": 3
   },
   "file_extension": ".py",
   "mimetype": "text/x-python",
   "name": "python",
   "nbconvert_exporter": "python",
   "pygments_lexer": "ipython3",
   "version": "3.9.7"
  }
 },
 "nbformat": 4,
 "nbformat_minor": 5
}
