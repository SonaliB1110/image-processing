{
 "cells": [
  {
   "cell_type": "code",
   "execution_count": 2,
   "id": "dbaef84a",
   "metadata": {},
   "outputs": [
    {
     "name": "stdout",
     "output_type": "stream",
     "text": [
      "Number of detected faces: 2\n"
     ]
    }
   ],
   "source": [
    "# import required libraries\n",
    "import cv2\n",
    "\n",
    "# read input image\n",
    "img = cv2.imread('face09.jpg')\n",
    "\n",
    "# convert to grayscale of each frames\n",
    "gray = cv2.cvtColor(img, cv2.COLOR_BGR2GRAY)\n",
    "\n",
    "# read the haarcascade to detect the faces in an image\n",
    "face_cascade = cv2.CascadeClassifier('haarcascade_frontalface_default.xml')\n",
    "\n",
    "# read the haarcascade to detect the eyes in an image\n",
    "eye_cascade = cv2.CascadeClassifier('haarcascade_eye_tree_eyeglasses.xml')\n",
    "\n",
    "# detects faces in the input image\n",
    "faces = face_cascade.detectMultiScale(gray, 1.3, 4)\n",
    "print('Number of detected faces:', len(faces))\n",
    "\n",
    "# loop over the detected faces\n",
    "for (x,y,w,h) in faces:\n",
    "   roi_gray = gray[y:y+h, x:x+w]\n",
    "   roi_color = img[y:y+h, x:x+w]\n",
    "   \n",
    "   # detects eyes of within the detected face area (roi)\n",
    "   eyes = eye_cascade.detectMultiScale(roi_gray)\n",
    "   \n",
    "   # draw a rectangle around eyes\n",
    "   for (ex,ey,ew,eh) in eyes:\n",
    "        cv2.rectangle(roi_color,(ex,ey),(ex+ew,ey+eh),(0,255,255),2)\n",
    "\n",
    "# display the image with detected eyes\n",
    "cv2.imshow('Eyes Detection',img)\n",
    "cv2.waitKey(0)\n",
    "cv2.destroyAllWindows()"
   ]
  },
  {
   "cell_type": "code",
   "execution_count": null,
   "id": "3316a492",
   "metadata": {},
   "outputs": [],
   "source": [
    "!pip install face_detector"
   ]
  },
  {
   "cell_type": "code",
   "execution_count": null,
   "id": "4d69839e",
   "metadata": {},
   "outputs": [],
   "source": [
    "import numpy as np\n",
    "import cv2\n",
    "face_detector1=cv2.CascadeClassifier('haarcascade_frontalface_default.xml')\n",
    "eye_detector1 = cv2.CascadeClassifier('haarcascade_eye.xml')\n",
    "img = cv2.imread('face09.jpg')\n",
    "gray = cv2.cvtColor(img, cv2.COLOR_BGR2GRAY)\n",
    "faces_result = face_detector1.detectMultiScale(gray, 1.3, 5)\n",
    "for (x,y,w,h) in faces_result:\n",
    "    img = cv2.rectangle(img,(x,y),(x+w,y+h),(255,0,0),2)\n",
    "    roi_gray = gray[y:y+h, x:x+w]\n",
    "    roi_color = img[y:y+h, x:x+w]\n",
    "    eyes = eye_detector1.detectMultiScale(roi_gray)\n",
    "    for (ex,ey,ew,eh) in eyes:\n",
    "        cv2.rectangle(roi_color,(ex,ey),(ex+ew,ey+eh),(0,255,0),2)\n",
    "cv2.imshow('img',img)\n",
    "cv2.waitKey(0)\n",
    "cv2.destroyAllWindows()"
   ]
  },
  {
   "cell_type": "code",
   "execution_count": null,
   "id": "bd2d71ba",
   "metadata": {},
   "outputs": [],
   "source": []
  },
  {
   "cell_type": "code",
   "execution_count": null,
   "id": "c0df46ec",
   "metadata": {},
   "outputs": [],
   "source": []
  }
 ],
 "metadata": {
  "kernelspec": {
   "display_name": "Python 3 (ipykernel)",
   "language": "python",
   "name": "python3"
  },
  "language_info": {
   "codemirror_mode": {
    "name": "ipython",
    "version": 3
   },
   "file_extension": ".py",
   "mimetype": "text/x-python",
   "name": "python",
   "nbconvert_exporter": "python",
   "pygments_lexer": "ipython3",
   "version": "3.9.7"
  }
 },
 "nbformat": 4,
 "nbformat_minor": 5
}
