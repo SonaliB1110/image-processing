{
 "cells": [
  {
   "cell_type": "code",
   "execution_count": 2,
   "id": "bfc2d770",
   "metadata": {},
   "outputs": [],
   "source": [
    "import cv2\n",
    "import numpy as np\n",
    "from matplotlib import pyplot as plt\n",
    "\n",
    "img = cv2.imread('ChessBoardGrad.png',0)\n",
    "edges = cv2.Canny(img,100,200)\n",
    "\n",
    "cv2.imshow('Original',img)\n",
    "cv2.imshow('Edges',edges)\n",
    "\n",
    "cv2.imwrite('CannyChess.jpg', edges)\n",
    "cv2.waitKey(0)\n",
    "cv2.destroyAllWindows()"
   ]
  },
  {
   "cell_type": "code",
   "execution_count": null,
   "id": "95e110e3",
   "metadata": {},
   "outputs": [],
   "source": []
  }
 ],
 "metadata": {
  "kernelspec": {
   "display_name": "Python 3 (ipykernel)",
   "language": "python",
   "name": "python3"
  },
  "language_info": {
   "codemirror_mode": {
    "name": "ipython",
    "version": 3
   },
   "file_extension": ".py",
   "mimetype": "text/x-python",
   "name": "python",
   "nbconvert_exporter": "python",
   "pygments_lexer": "ipython3",
   "version": "3.9.7"
  }
 },
 "nbformat": 4,
 "nbformat_minor": 5
}
