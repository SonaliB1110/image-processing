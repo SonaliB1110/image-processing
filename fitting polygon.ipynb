{
 "cells": [
  {
   "cell_type": "code",
   "execution_count": 1,
   "id": "5e3f52e9",
   "metadata": {},
   "outputs": [
    {
     "name": "stdout",
     "output_type": "stream",
     "text": [
      "Number of Triangles in the image: 6\n"
     ]
    }
   ],
   "source": [
    "import cv2 \n",
    "import numpy as np\n",
    "\n",
    "count=0\n",
    "img = cv2.imread('polygons.jpg', 0)  \n",
    "cv2.imshow('gray',img)\n",
    "cv2.waitKey(0)\n",
    "\n",
    "_,threshold = cv2.threshold(img, 200, 255, cv2.THRESH_BINARY) \n",
    "cv2.imshow('Threshold Image', threshold)\n",
    "cv2.imwrite('Threshold.jpg', threshold)\n",
    "cv2.waitKey(0)\n",
    "\n",
    "contours, hierarchy = cv2.findContours(threshold, cv2.RETR_TREE, cv2.CHAIN_APPROX_SIMPLE)\n",
    "cv2.drawContours(img, contours, -1, (0, 255, 0), 3)\n",
    "cv2.imshow('Contours', img)\n",
    "cv2.imwrite('Contours.jpg', img)\n",
    "cv2.waitKey(0)\n",
    "\n",
    "image2 = cv2.imread('polygons.jpg')\n",
    "for contour in contours:\n",
    "    peri = cv2.arcLength(contour, True)\n",
    "    approx = cv2.approxPolyDP(contour,0.05 * cv2.arcLength(contour, True), True)\n",
    "    if len(approx) == 3\t:\n",
    "        cv2.drawContours(image2, contour, -1, (0, 0, 0), 3)\n",
    "        count = count + 1\n",
    "\n",
    "print(\"Number of Triangles in the image: \" + str(count)) \n",
    "cv2.imshow('Triangles Detected', image2)\n",
    "cv2.imwrite('Triangles.jpg', image2)\n",
    "cv2.waitKey(0)\n",
    "cv2.destroyAllWindows()"
   ]
  },
  {
   "cell_type": "code",
   "execution_count": null,
   "id": "77346a17",
   "metadata": {},
   "outputs": [],
   "source": []
  },
  {
   "cell_type": "code",
   "execution_count": null,
   "id": "53f85a39",
   "metadata": {},
   "outputs": [],
   "source": []
  }
 ],
 "metadata": {
  "kernelspec": {
   "display_name": "Python 3 (ipykernel)",
   "language": "python",
   "name": "python3"
  },
  "language_info": {
   "codemirror_mode": {
    "name": "ipython",
    "version": 3
   },
   "file_extension": ".py",
   "mimetype": "text/x-python",
   "name": "python",
   "nbconvert_exporter": "python",
   "pygments_lexer": "ipython3",
   "version": "3.9.7"
  }
 },
 "nbformat": 4,
 "nbformat_minor": 5
}
