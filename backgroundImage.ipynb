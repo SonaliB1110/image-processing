{
 "cells": [
  {
   "cell_type": "code",
   "execution_count": 1,
   "id": "97bb047d",
   "metadata": {},
   "outputs": [],
   "source": [
    "import cv2\n",
    "import numpy as np\n",
    "\n",
    "# load image and get dimensions\n",
    "img1 = cv2.imread(\"Ut.jpg\")\n",
    "img2=cv2.imread(\"v.jpg\")\n",
    "h, w, c = img1.shape\n",
    "\n",
    "# create zeros mask 2 pixels larger in each dimension\n",
    "mask = np.zeros([h + 2, w + 2], np.uint8)\n",
    "\n",
    "# do floodfill\n",
    "result = img1.copy()\n",
    "cv2.floodFill(result, mask, (0,0), (255,255,255), (3,151,65), (3,151,65), flags=8)\n",
    "cv2.floodFill(result, mask, (38,313), (255,255,255), (3,151,65), (3,151,65), flags=8)\n",
    "cv2.floodFill(result, mask, (363,345), (255,255,255), (3,151,65), (3,151,65), flags=8)\n",
    "cv2.floodFill(result, mask, (619,342), (255,255,255), (3,151,65), (3,151,65), flags=8)\n",
    "\n",
    "# write result to disk\n",
    "cv2.imwrite(\"me.png\", result)\n",
    "dim=(1200,800)\n",
    "resized_img1=cv2.resize(result,dim,interpolation=cv2.INTER_AREA)\n",
    "resized_img2=cv2.resize(img2,dim,interpolation=cv2.INTER_AREA)\n",
    "\n",
    "blend=cv2.addWeighted(resized_img1,0.9,resized_img2,0.1,0.9)\n",
    "cv2.imwrite('D:/images.jpg',blend)\n",
    "cv2.imshow(\"image\",blend)\n",
    "# display it\n",
    "#cv2.imshow(\"result\", result)\n",
    "cv2.waitKey(0)\n",
    "cv2.destroyAllWindows()"
   ]
  }
 ],
 "metadata": {
  "kernelspec": {
   "display_name": "Python 3 (ipykernel)",
   "language": "python",
   "name": "python3"
  },
  "language_info": {
   "codemirror_mode": {
    "name": "ipython",
    "version": 3
   },
   "file_extension": ".py",
   "mimetype": "text/x-python",
   "name": "python",
   "nbconvert_exporter": "python",
   "pygments_lexer": "ipython3",
   "version": "3.9.7"
  }
 },
 "nbformat": 4,
 "nbformat_minor": 5
}
