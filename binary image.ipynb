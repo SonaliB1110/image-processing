{
 "cells": [
  {
   "cell_type": "code",
   "execution_count": 6,
   "id": "3e64f36b",
   "metadata": {},
   "outputs": [],
   "source": [
    "import cv2\n",
    "image=cv2.imread('F1.png')\n",
    "cv2.imshow('display image',image)\n",
    "cv2.waitKey(0)\n",
    "cv2.destroyAllWindows()"
   ]
  },
  {
   "cell_type": "code",
   "execution_count": 7,
   "id": "c76d65d5",
   "metadata": {},
   "outputs": [],
   "source": [
    "ret, bw_img = cv2.threshold(image, 127, 255, cv2.THRESH_BINARY)\n",
    "  \n",
    "# converting to its binary form\n",
    "bw = cv2.threshold(image, 127, 255, cv2.THRESH_BINARY)  \n",
    "cv2.imshow(\"Binary\", bw_img)\n",
    "cv2.waitKey(0)\n",
    "cv2.destroyAllWindows()"
   ]
  },
  {
   "cell_type": "code",
   "execution_count": null,
   "id": "f696ba83",
   "metadata": {},
   "outputs": [],
   "source": []
  }
 ],
 "metadata": {
  "kernelspec": {
   "display_name": "Python 3 (ipykernel)",
   "language": "python",
   "name": "python3"
  },
  "language_info": {
   "codemirror_mode": {
    "name": "ipython",
    "version": 3
   },
   "file_extension": ".py",
   "mimetype": "text/x-python",
   "name": "python",
   "nbconvert_exporter": "python",
   "pygments_lexer": "ipython3",
   "version": "3.9.7"
  }
 },
 "nbformat": 4,
 "nbformat_minor": 5
}
