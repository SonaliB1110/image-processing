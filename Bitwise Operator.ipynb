{
 "cells": [
  {
   "cell_type": "code",
   "execution_count": null,
   "id": "5a412a5d",
   "metadata": {},
   "outputs": [],
   "source": [
    "import cv2\n",
    "\n",
    "# read two input images.\n",
    "# The size of both images must be the same.\n",
    "img1 = cv2.imread('img1.jpg')\n",
    "img2 = cv2.imread('img2.jpg')\n",
    "\n",
    "# compute bitwise AND on both images\n",
    "and_img = cv2.bitwise_and(img1,img2)\n",
    "\n",
    "# display the computed bitwise AND image\n",
    "cv2.imshow('Bitwise AND Image', and_img)\n",
    "or_img = cv2.bitwise_or(img1,img2)\n",
    "\n",
    "# display the computed bitwise OR image\n",
    "cv2.imshow('Bitwise OR Image', or_img)\n",
    "xor_img = cv2.bitwise_xor(img1,img2)\n",
    "\n",
    "# display the computed bitwise XOR image\n",
    "cv2.imshow('Bitwise XOR Image', xor_img)\n",
    "bitwise_not = cv2.bitwise_not(img1,img2)\n",
    "\n",
    "# display the computed bitwise NOT image\n",
    "cv2.imshow(\"bitwise_not\", bitwise_not)\n",
    "cv2.waitKey(0)\n",
    "cv2.destroyAllWindows()"
   ]
  },
  {
   "cell_type": "code",
   "execution_count": null,
   "id": "29e071d2",
   "metadata": {},
   "outputs": [],
   "source": []
  }
 ],
 "metadata": {
  "kernelspec": {
   "display_name": "Python 3 (ipykernel)",
   "language": "python",
   "name": "python3"
  },
  "language_info": {
   "codemirror_mode": {
    "name": "ipython",
    "version": 3
   },
   "file_extension": ".py",
   "mimetype": "text/x-python",
   "name": "python",
   "nbconvert_exporter": "python",
   "pygments_lexer": "ipython3",
   "version": "3.9.7"
  }
 },
 "nbformat": 4,
 "nbformat_minor": 5
}
